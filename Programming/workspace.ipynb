{
 "cells": [
  {
   "cell_type": "markdown",
   "id": "ab32aa66",
   "metadata": {},
   "source": [
    "# Research Project Experiment"
   ]
  },
  {
   "cell_type": "markdown",
   "id": "889d5845",
   "metadata": {},
   "source": []
  }
 ],
 "metadata": {
  "language_info": {
   "name": "python"
  }
 },
 "nbformat": 4,
 "nbformat_minor": 5
}
